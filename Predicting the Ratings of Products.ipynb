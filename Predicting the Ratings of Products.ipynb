{
 "cells": [
  {
   "cell_type": "markdown",
   "id": "0f2652e9",
   "metadata": {},
   "source": [
    "\n",
    "# Predicting the Ratings \n",
    "---\n",
    "\n",
    "# Introduction\n",
    "\n",
    "Using tools of your choice, complete the following tasks. Keep it simple. The goal of the exercise is not to do the deepest EDA, build the best model possible, or spend lots of time building a robust solution. The goal is to demonstrate your ability to complete the end-to-end process in a reasonable timeframe and explain your thought process clearly.\n",
    "\n",
    "## Dataset\n",
    "\n",
    "This dataset contains data of over 1,000 products, including their ratings and reviews.\n",
    "\n",
    "### Features\n",
    "\n",
    "The dataset includes the following features:\n",
    "\n",
    "- `product_id`: Product ID\n",
    "- `product_name`: Name of the Product\n",
    "- `category`: Category of the Product\n",
    "- `discounted_price`: Discounted Price of the Product\n",
    "- `actual_price`: Actual Price of the Product\n",
    "- `discount_percentage`: Percentage of Discount for the Product\n",
    "- `rating`: Rating of the Product\n",
    "- `rating_count`: Number of people who voted for the Amazon rating\n",
    "\n",
    "This rich dataset offers a comprehensive view of products, covering various aspects like pricing, ratings, and customer feedback, for data analysis and insight.\n",
    "\n",
    "\n",
    "## Hints\n",
    "\n",
    "###### Time Management and Simplicity\n",
    "- Start with simple methods and ensure all necessary components are functioning correctly.\n",
    "\n",
    "- Use markdown in your Notebook to record assumptions, decisions, and any experimental techniques.\n",
    "\n",
    "- Explain the creation and transformation of data columns, focusing on how these changes can enhance insights and model performance.\n",
    "\n",
    "###### Exploratory Data Analysis (EDA)\n",
    "- Evaluate data completeness and check for missing values.\n",
    "- Generate visualisations to understand the distributions of variables like ‘category’, ‘actual_price’, ‘discount_price’, ‘discount’, ‘rating’, and ‘rating_count’. Include engineered columns if applicable.\n",
    "- Investigate correlations between variables and describe the methods used for this analysis.\n",
    "\n",
    "###### Model Development and Evaluation\n",
    "- Build a model to predict ‘rating’, explaining the choice of modeling approach.\n",
    "- Assess the model's accuracy and justify the chosen accuracy metric.\n",
    "\n",
    "###### Insights, Explanation, and Model Improvement\n",
    "- Analyse the importance of features in your model and the criteria for evaluating their significance.\n",
    "- Describe the relationship between key variables and the prediction, including the methods used for this examination.\n",
    "- Discuss the predictability of ‘rating’ based on available data and provide reasons.\n",
    "- Suggest methods to enhance model performance.\n",
    "- Offer a simplified, non-technical summary of your findings and learnings from the analysis.\n",
    "\n",
    "###### Modeling Methodology\n",
    "- Provide a concise explanation of your choices in the modeling process, highlighting alignment with analysis objectives.\n",
    "\n",
    "###### Model Evaluation and Metrics\n",
    "- Discuss your approach to evaluating model accuracy and the rationale behind the selection of specific evaluation metrics.\n",
    "\n",
    "\n",
    "## Interview Focus\n",
    "\n",
    "During the interview, we are most interested in the following:\n",
    "\n",
    "1. Your understanding of how your model is performing with respect to the business problem.\n",
    "2. Your ability to explain the assumptions and modeling decisions you have made.\n",
    "3. Your plan for how you would put this model into production.\n",
    "---"
   ]
  },
  {
   "cell_type": "markdown",
   "id": "b6624721",
   "metadata": {},
   "source": [
    "### Getting started\n",
    "The data for this interview case is provided in a parquet file that can be loaded directly into a pandas dataframe as shown below. In order for reading parquet file make sure the pyarrow package is installed."
   ]
  },
  {
   "cell_type": "code",
   "execution_count": 1,
   "id": "c4d6638b",
   "metadata": {},
   "outputs": [],
   "source": [
    "###### Load data to DataFrame\n",
    "import pandas as pd\n",
    "df = pd.read_csv('amazon.csv')"
   ]
  },
  {
   "cell_type": "code",
   "execution_count": 2,
   "id": "cda28ba2",
   "metadata": {},
   "outputs": [
    {
     "data": {
      "text/plain": [
       "Index(['product_id', 'product_name', 'category', 'discounted_price',\n",
       "       'actual_price', 'discount_percentage', 'rating', 'rating_count'],\n",
       "      dtype='object')"
      ]
     },
     "execution_count": 2,
     "metadata": {},
     "output_type": "execute_result"
    }
   ],
   "source": [
    "df.columns"
   ]
  },
  {
   "cell_type": "code",
   "execution_count": null,
   "id": "fab6c8f0",
   "metadata": {},
   "outputs": [],
   "source": []
  }
 ],
 "metadata": {
  "colab": {
   "provenance": []
  },
  "kernelspec": {
   "display_name": "Python 3 (ipykernel)",
   "language": "python",
   "name": "python3"
  },
  "language_info": {
   "codemirror_mode": {
    "name": "ipython",
    "version": 3
   },
   "file_extension": ".py",
   "mimetype": "text/x-python",
   "name": "python",
   "nbconvert_exporter": "python",
   "pygments_lexer": "ipython3",
   "version": "3.10.9"
  }
 },
 "nbformat": 4,
 "nbformat_minor": 5
}
